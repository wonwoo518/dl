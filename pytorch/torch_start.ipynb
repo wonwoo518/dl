{
 "cells": [
  {
   "cell_type": "code",
   "execution_count": 1,
   "metadata": {
    "collapsed": true
   },
   "outputs": [],
   "source": [
    "import torch\n",
    "import torch.cuda\n",
    "from torch import nn\n",
    "from torch import optim\n",
    "from torchvision import datasets, transforms\n",
    "from torch.autograd import Variable\n",
    "import torch.nn.functional as F\n",
    "\n"
   ]
  },
  {
   "cell_type": "code",
   "execution_count": 2,
   "metadata": {},
   "outputs": [
    {
     "data": {
      "text/plain": [
       "<torchvision.transforms.Compose at 0x7ff0815a9a58>"
      ]
     },
     "execution_count": 2,
     "metadata": {},
     "output_type": "execute_result"
    }
   ],
   "source": [
    "transforms.Compose([transforms.ToTensor()])\n"
   ]
  },
  {
   "cell_type": "code",
   "execution_count": 3,
   "metadata": {
    "collapsed": true
   },
   "outputs": [],
   "source": [
    "# show train image sample \n",
    "# show train image transformed ToTensor."
   ]
  },
  {
   "cell_type": "code",
   "execution_count": 4,
   "metadata": {
    "collapsed": true
   },
   "outputs": [],
   "source": [
    "\n",
    "\n",
    "#transform : dataset each element transform type. \n",
    "train = datasets.MNIST('./data', train=True, download=True, transform=transforms.Compose([\n",
    "    transforms.ToTensor(), # ToTensor does min-max normalization.\n",
    "]), )\n",
    "\n",
    "test = datasets.MNIST('./data', train=False, download=True, transform=transforms.Compose([\n",
    "    transforms.ToTensor(), # ToTensor does min-max normalization.\n",
    "]), )\n",
    "\n",
    "# Create DataLoader\n",
    "dataloader_args = dict(shuffle=True, batch_size=64,num_workers=1, pin_memory=True)\n",
    "train_loader = torch.utils.data.DataLoader(train, **dataloader_args)\n",
    "test_loader = torch.utils.data.DataLoader(test, **dataloader_args)\n",
    "\n",
    "class Model(torch.nn.Module):\n",
    "    def __init__(self):\n",
    "        super(Model, self).__init__()\n",
    "\n",
    "        self.fc1 = nn.Linear(784, 548)\n",
    "        self.bc1 = self.fc1#nn.BatchNorm1d(548)\n",
    "\n",
    "        self.fc2 = nn.Linear(548, 252)\n",
    "        self.bc2 = self.fc2#nn.BatchNorm1d(252)\n",
    "\n",
    "        self.fc3 = nn.Linear(252, 10)\n",
    "\n",
    "\n",
    "    def forward(self, x):\n",
    "        x = x.view((-1, 784))\n",
    "        h = self.fc1(x)\n",
    "        #h = self.bc1(h)\n",
    "        h = F.relu(h)\n",
    "        h = F.dropout(h, p=0.5, training=self.training)\n",
    "\n",
    "        h = self.fc2(h)\n",
    "        #h = self.bc2(h)\n",
    "        h = F.relu(h)\n",
    "        h = F.dropout(h, p=0.2, training=self.training)\n",
    "\n",
    "        h = self.fc3(h)\n",
    "        out = F.log_softmax(h)\n",
    "        return out\n",
    "\n",
    "model = Model()\n",
    "model.cuda() # CUDA!\n",
    "optimizer = optim.Adam(model.parameters(), lr=0.001)"
   ]
  },
  {
   "cell_type": "code",
   "execution_count": 5,
   "metadata": {},
   "outputs": [
    {
     "name": "stdout",
     "output_type": "stream",
     "text": [
      " Train Epoch: 0 [57664/60000 (96%)]\tLoss: 0.289274\n",
      " Train Epoch: 1 [57664/60000 (96%)]\tLoss: 0.156202\n",
      " Train Epoch: 2 [57664/60000 (96%)]\tLoss: 0.212817\n",
      " Train Epoch: 3 [57664/60000 (96%)]\tLoss: 0.030911\n",
      " Train Epoch: 4 [57664/60000 (96%)]\tLoss: 0.140224\n",
      " Train Epoch: 5 [57664/60000 (96%)]\tLoss: 0.032377\n",
      " Train Epoch: 6 [57664/60000 (96%)]\tLoss: 0.035870\n",
      " Train Epoch: 7 [57664/60000 (96%)]\tLoss: 0.020710\n",
      " Train Epoch: 8 [57664/60000 (96%)]\tLoss: 0.032607\n",
      " Train Epoch: 9 [57664/60000 (96%)]\tLoss: 0.011913\n",
      " Train Epoch: 10 [57664/60000 (96%)]\tLoss: 0.091848\n",
      " Train Epoch: 11 [57664/60000 (96%)]\tLoss: 0.102390\n",
      " Train Epoch: 12 [57664/60000 (96%)]\tLoss: 0.130160\n",
      " Train Epoch: 13 [57664/60000 (96%)]\tLoss: 0.005826\n",
      " Train Epoch: 14 [57664/60000 (96%)]\tLoss: 0.031912\n",
      " Train Epoch: 15 [57664/60000 (96%)]\tLoss: 0.004866\n",
      " Train Epoch: 16 [57664/60000 (96%)]\tLoss: 0.011271\n",
      " Train Epoch: 17 [57664/60000 (96%)]\tLoss: 0.003182\n",
      " Train Epoch: 18 [57664/60000 (96%)]\tLoss: 0.002415\n",
      " Train Epoch: 19 [57664/60000 (96%)]\tLoss: 0.054189\n"
     ]
    }
   ],
   "source": [
    "model.train()\n",
    "\n",
    "losses = []\n",
    "for epoch in range(20):\n",
    "    for batch_idx, (data, target) in enumerate(train_loader):\n",
    "        # Get Samples\n",
    "        data, target = Variable(data.cuda()), Variable(target.cuda())\n",
    "\n",
    "        # Init\n",
    "        optimizer.zero_grad()\n",
    "\n",
    "        # Predict\n",
    "        y_pred = model(data)\n",
    "\n",
    "        # Calculate loss\n",
    "        loss = F.cross_entropy(y_pred, target)\n",
    "        losses.append(loss.data[0])\n",
    "        # Backpropagation\n",
    "        loss.backward()\n",
    "        optimizer.step()\n",
    "\n",
    "\n",
    "        # Display\n",
    "        if batch_idx % 100 == 1:\n",
    "            print('\\r Train Epoch: {} [{}/{} ({:.0f}%)]\\tLoss: {:.6f}'.format(\n",
    "                epoch,\n",
    "                batch_idx * len(data),\n",
    "                len(train_loader.dataset),\n",
    "                100. * batch_idx / len(train_loader),\n",
    "                loss.data[0]),\n",
    "                end='')\n",
    "\n",
    "    print()"
   ]
  },
  {
   "cell_type": "code",
   "execution_count": null,
   "metadata": {
    "collapsed": true
   },
   "outputs": [],
   "source": []
  }
 ],
 "metadata": {
  "kernelspec": {
   "display_name": "Python 3",
   "language": "python",
   "name": "python3"
  },
  "language_info": {
   "codemirror_mode": {
    "name": "ipython",
    "version": 3
   },
   "file_extension": ".py",
   "mimetype": "text/x-python",
   "name": "python",
   "nbconvert_exporter": "python",
   "pygments_lexer": "ipython3",
   "version": "3.5.2"
  }
 },
 "nbformat": 4,
 "nbformat_minor": 2
}
