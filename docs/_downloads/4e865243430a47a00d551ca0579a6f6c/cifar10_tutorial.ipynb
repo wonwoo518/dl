{
  "cells": [
    {
      "cell_type": "code",
      "execution_count": 2,
      "metadata": {
        "id": "a0kKmypnq-LP"
      },
      "outputs": [],
      "source": [
        "# Google Colab에서 노트북을 실행하실 때에는\n",
        "# https://tutorials.pytorch.kr/beginner/colab 를 참고하세요.\n",
        "%matplotlib inline"
      ]
    },
    {
      "cell_type": "markdown",
      "metadata": {
        "id": "I7LqusOQq-LR"
      },
      "source": [
        "\n",
        "# 분류기(Classifier) 학습하기\n",
        "\n",
        "지금까지 어떻게 신경망을 정의하고, 손실을 계산하며 또 가중치를 갱신하는지에\n",
        "대해서 배웠습니다.\n",
        "\n",
        "이제 아마도 이런 생각을 하고 계실텐데요,\n",
        "\n",
        "## 데이터는 어떻게 하나요?\n",
        "\n",
        "일반적으로 이미지나 텍스트, 오디오나 비디오 데이터를 다룰 때는 표준 Python 패키지를\n",
        "이용하여 NumPy 배열로 불러오면 됩니다. 그 후 그 배열을 ``torch.*Tensor`` 로 변환합니다.\n",
        "\n",
        "-  이미지는 Pillow나 OpenCV 같은 패키지가 유용합니다.\n",
        "-  오디오를 처리할 때는 SciPy와 LibROSA가 유용하고요.\n",
        "-  텍스트의 경우에는 그냥 Python이나 Cython을 사용해도 되고, NLTK나 SpaCy도\n",
        "   유용합니다.\n",
        "\n",
        "특별히 영상 분야를 위한 ``torchvision`` 이라는 패키지가 만들어져 있는데,\n",
        "여기에는 ImageNet이나 CIFAR10, MNIST 등과 같이 일반적으로 사용하는 데이터셋을 위한\n",
        "데이터 로더(data loader), 즉 ``torchvision.datasets`` 과 이미지용 데이터 변환기\n",
        "(data transformer), 즉 ``torch.utils.data.DataLoader`` 가 포함되어 있습니다.\n",
        "\n",
        "이러한 기능은 엄청나게 편리하며, 매번 유사한 코드(boilerplate code)를 반복해서\n",
        "작성하는 것을 피할 수 있습니다.\n",
        "\n",
        "이 튜토리얼에서는 CIFAR10 데이터셋을 사용합니다. 여기에는 다음과 같은 분류들이\n",
        "있습니다: '비행기(airplane)', '자동차(automobile)', '새(bird)', '고양이(cat)',\n",
        "'사슴(deer)', '개(dog)', '개구리(frog)', '말(horse)', '배(ship)', '트럭(truck)'.\n",
        "그리고 CIFAR10에 포함된 이미지의 크기는 3x32x32로, 이는 32x32 픽셀 크기의 이미지가\n",
        "3개 채널(channel)의 색상으로 이뤄져 있다는 것을 뜻합니다.\n",
        "\n",
        ".. figure:: /_static/img/cifar10.png\n",
        "   :alt: cifar10\n",
        "\n",
        "   cifar10\n",
        "\n",
        "\n",
        "## 이미지 분류기 학습하기\n",
        "\n",
        "다음과 같은 단계로 진행해보겠습니다:\n",
        "\n",
        "1. ``torchvision`` 을 사용하여 CIFAR10의 학습용 / 시험용 데이터셋을\n",
        "   불러오고, 정규화(nomarlizing)합니다.\n",
        "2. 합성곱 신경망(Convolution Neural Network)을 정의합니다.\n",
        "3. 손실 함수를 정의합니다.\n",
        "4. 학습용 데이터를 사용하여 신경망을 학습합니다.\n",
        "5. 시험용 데이터를 사용하여 신경망을 검사합니다.\n",
        "\n",
        "### 1. CIFAR10을 불러오고 정규화하기\n",
        "\n",
        "``torchvision`` 을 사용하여 매우 쉽게 CIFAR10을 불러올 수 있습니다.\n"
      ]
    },
    {
      "cell_type": "code",
      "execution_count": 3,
      "metadata": {
        "id": "q4aX1s9dq-LS"
      },
      "outputs": [],
      "source": [
        "import torch\n",
        "import torchvision\n",
        "import torchvision.transforms as transforms"
      ]
    },
    {
      "cell_type": "markdown",
      "metadata": {
        "id": "igf6XE0Iq-LS"
      },
      "source": [
        "torchvision 데이터셋의 출력(output)은 [0, 1] 범위를 갖는 PILImage 이미지입니다.\n",
        "이를 [-1, 1]의 범위로 정규화된 Tensor로 변환합니다.\n",
        "\n",
        "<div class=\"alert alert-info\"><h4>Note</h4><p>만약 Windows 환경에서 BrokenPipeError가 발생한다면,\n",
        "    torch.utils.data.DataLoader()의 num_worker를 0으로 설정해보세요.</p></div>\n",
        "\n"
      ]
    },
    {
      "cell_type": "code",
      "execution_count": 4,
      "metadata": {
        "colab": {
          "base_uri": "https://localhost:8080/"
        },
        "id": "wq1IhRrbq-LT",
        "outputId": "c2f56f54-587c-4e1d-b86b-9019c4ed1721"
      },
      "outputs": [
        {
          "output_type": "stream",
          "name": "stdout",
          "text": [
            "Downloading https://www.cs.toronto.edu/~kriz/cifar-10-python.tar.gz to ./data/cifar-10-python.tar.gz\n"
          ]
        },
        {
          "output_type": "stream",
          "name": "stderr",
          "text": [
            "100%|██████████| 170498071/170498071 [00:02<00:00, 76783746.71it/s] \n"
          ]
        },
        {
          "output_type": "stream",
          "name": "stdout",
          "text": [
            "Extracting ./data/cifar-10-python.tar.gz to ./data\n",
            "Files already downloaded and verified\n"
          ]
        }
      ],
      "source": [
        "transform = transforms.Compose(\n",
        "    [transforms.ToTensor(),\n",
        "     transforms.Normalize((0.5, 0.5, 0.5), (0.5, 0.5, 0.5))])\n",
        "\n",
        "batch_size = 4\n",
        "\n",
        "trainset = torchvision.datasets.CIFAR10(root='./data', train=True,\n",
        "                                        download=True, transform=transform)\n",
        "trainloader = torch.utils.data.DataLoader(trainset, batch_size=batch_size,\n",
        "                                          shuffle=True, num_workers=2)\n",
        "\n",
        "testset = torchvision.datasets.CIFAR10(root='./data', train=False,\n",
        "                                       download=True, transform=transform)\n",
        "testloader = torch.utils.data.DataLoader(testset, batch_size=batch_size,\n",
        "                                         shuffle=False, num_workers=2)\n",
        "\n",
        "classes = ('plane', 'car', 'bird', 'cat',\n",
        "           'deer', 'dog', 'frog', 'horse', 'ship', 'truck')"
      ]
    },
    {
      "cell_type": "markdown",
      "metadata": {
        "id": "1k-VAQCsq-LT"
      },
      "source": [
        "재미삼아 학습용 이미지 몇 개를 보겠습니다.\n",
        "\n"
      ]
    },
    {
      "cell_type": "code",
      "execution_count": 5,
      "metadata": {
        "colab": {
          "base_uri": "https://localhost:8080/",
          "height": 211
        },
        "id": "Hl4D5Y0Uq-LT",
        "outputId": "8b30c5de-962f-4796-e4a2-775b0098c063"
      },
      "outputs": [
        {
          "output_type": "display_data",
          "data": {
            "text/plain": [
              "<Figure size 640x480 with 1 Axes>"
            ],
            "image/png": "[encoded data removed]"
          },
          "metadata": {}
        },
        {
          "output_type": "stream",
          "name": "stdout",
          "text": [
            "horse bird  frog  plane\n"
          ]
        }
      ],
      "source": [
        "import matplotlib.pyplot as plt\n",
        "import numpy as np\n",
        "\n",
        "# 이미지를 보여주기 위한 함수\n",
        "\n",
        "def imshow(img):\n",
        "    img = img / 2 + 0.5     # unnormalize\n",
        "    npimg = img.numpy()\n",
        "    plt.imshow(np.transpose(npimg, (1, 2, 0)))\n",
        "    plt.show()\n",
        "\n",
        "\n",
        "# 학습용 이미지를 무작위로 가져오기\n",
        "dataiter = iter(trainloader)\n",
        "images, labels = next(dataiter)\n",
        "\n",
        "# 이미지 보여주기\n",
        "imshow(torchvision.utils.make_grid(images))\n",
        "# 정답(label) 출력\n",
        "print(' '.join(f'{classes[labels[j]]:5s}' for j in range(batch_size)))"
      ]
    },
    {
      "cell_type": "markdown",
      "metadata": {
        "id": "EUDDoLlMq-LU"
      },
      "source": [
        "### 2. 합성곱 신경망(Convolution Neural Network) 정의하기\n",
        "이전의 신경망 섹션에서 신경망을 복사한 후, (기존에 1채널 이미지만 처리하도록\n",
        "정의된 것을) 3채널 이미지를 처리할 수 있도록 수정합니다.\n",
        "\n"
      ]
    },
    {
      "cell_type": "code",
      "execution_count": 6,
      "metadata": {
        "id": "2Eu-1pKyq-LU"
      },
      "outputs": [],
      "source": [
        "import torch.nn as nn\n",
        "import torch.nn.functional as F\n",
        "\n",
        "\n",
        "class Net(nn.Module):\n",
        "    def __init__(self):\n",
        "        super().__init__()\n",
        "        self.conv1 = nn.Conv2d(3, 6, 5)\n",
        "        self.pool = nn.MaxPool2d(2, 2)\n",
        "        self.conv2 = nn.Conv2d(6, 16, 5)\n",
        "        self.fc1 = nn.Linear(16 * 5 * 5, 120)\n",
        "        self.fc2 = nn.Linear(120, 84)\n",
        "        self.fc3 = nn.Linear(84, 10)\n",
        "\n",
        "    def forward(self, x):\n",
        "        x = self.pool(F.relu(self.conv1(x)))\n",
        "        x = self.pool(F.relu(self.conv2(x)))\n",
        "        x = torch.flatten(x, 1) # 배치를 제외한 모든 차원을 평탄화(flatten)\n",
        "        x = F.relu(self.fc1(x))\n",
        "        x = F.relu(self.fc2(x))\n",
        "        x = self.fc3(x)\n",
        "        return x\n",
        "\n",
        "\n",
        "net = Net()"
      ]
    },
    {
      "cell_type": "markdown",
      "metadata": {
        "id": "blSsarefq-LV"
      },
      "source": [
        "### 3. 손실 함수와 Optimizer 정의하기\n",
        "교차 엔트로피 손실(Cross-Entropy loss)과 모멘텀(momentum) 값을 갖는 SGD를 사용합니다.\n",
        "\n"
      ]
    },
    {
      "cell_type": "code",
      "execution_count": 7,
      "metadata": {
        "id": "TsPS72whq-LV"
      },
      "outputs": [],
      "source": [
        "import torch.optim as optim\n",
        "\n",
        "criterion = nn.CrossEntropyLoss()\n",
        "optimizer = optim.SGD(net.parameters(), lr=0.001, momentum=0.9)"
      ]
    },
    {
      "cell_type": "markdown",
      "metadata": {
        "id": "gFUgNBo7q-LV"
      },
      "source": [
        "### 4. 신경망 학습하기\n",
        "\n",
        "이제 재미있는 부분이 시작됩니다.\n",
        "단순히 데이터를 반복해서 신경망에 입력으로 제공하고, 최적화(Optimize)만 하면\n",
        "됩니다.\n",
        "\n"
      ]
    },
    {
      "cell_type": "code",
      "execution_count": 8,
      "metadata": {
        "colab": {
          "base_uri": "https://localhost:8080/"
        },
        "id": "RskyIoMqq-LV",
        "outputId": "aa812fcb-75cf-49e9-981f-60660f127ab0"
      },
      "outputs": [
        {
          "output_type": "stream",
          "name": "stdout",
          "text": [
            "[1,  2000] loss: 2.207\n",
            "[1,  4000] loss: 1.887\n",
            "[1,  6000] loss: 1.691\n",
            "[1,  8000] loss: 1.589\n",
            "[1, 10000] loss: 1.529\n",
            "[1, 12000] loss: 1.460\n",
            "[2,  2000] loss: 1.400\n",
            "[2,  4000] loss: 1.353\n",
            "[2,  6000] loss: 1.335\n",
            "[2,  8000] loss: 1.319\n",
            "[2, 10000] loss: 1.274\n",
            "[2, 12000] loss: 1.276\n",
            "Finished Training\n"
          ]
        }
      ],
      "source": [
        "for epoch in range(2):   # 데이터셋을 수차례 반복합니다.\n",
        "\n",
        "    running_loss = 0.0\n",
        "    for i, data in enumerate(trainloader, 0):\n",
        "        # [inputs, labels]의 목록인 data로부터 입력을 받은 후;\n",
        "        inputs, labels = data\n",
        "\n",
        "        # 변화도(Gradient) 매개변수를 0으로 만들고\n",
        "        optimizer.zero_grad()\n",
        "\n",
        "        # 순전파 + 역전파 + 최적화를 한 후\n",
        "        outputs = net(inputs)\n",
        "        loss = criterion(outputs, labels)\n",
        "        loss.backward()\n",
        "        optimizer.step()\n",
        "\n",
        "        # 통계를 출력합니다.\n",
        "        running_loss += loss.item()\n",
        "        if i % 2000 == 1999:    # print every 2000 mini-batches\n",
        "            print(f'[{epoch + 1}, {i + 1:5d}] loss: {running_loss / 2000:.3f}')\n",
        "            running_loss = 0.0\n",
        "\n",
        "print('Finished Training')"
      ]
    },
    {
      "cell_type": "markdown",
      "metadata": {
        "id": "eEtpZYEMq-LW"
      },
      "source": [
        "학습한 모델을 저장해보겠습니다:\n",
        "\n"
      ]
    },
    {
      "cell_type": "code",
      "execution_count": 9,
      "metadata": {
        "id": "Jz0LNUbwq-LW"
      },
      "outputs": [],
      "source": [
        "PATH = './cifar_net.pth'\n",
        "torch.save(net.state_dict(), PATH)"
      ]
    },
    {
      "cell_type": "markdown",
      "metadata": {
        "id": "eajNYBCrq-LW"
      },
      "source": [
        "PyTorch 모델을 저장하는 자세한 방법은 [여기](https://pytorch.org/docs/stable/notes/serialization.html)\n",
        "를 참조해주세요.\n",
        "\n",
        "### 5. 시험용 데이터로 신경망 검사하기\n",
        "\n",
        "지금까지 학습용 데이터셋을 2회 반복하며 신경망을 학습시켰습니다.\n",
        "신경망이 전혀 배운게 없을지도 모르니 확인해봅니다.\n",
        "\n",
        "신경망이 예측한 출력과 진짜 정답(Ground-truth)을 비교하는 방식으로 확인합니다.\n",
        "만약 예측이 맞다면 샘플을 '맞은 예측값(correct predictions)' 목록에 넣겠습니다.\n",
        "\n",
        "첫번째로 시험용 데이터를 좀 보겠습니다.\n",
        "\n"
      ]
    },
    {
      "cell_type": "code",
      "execution_count": 10,
      "metadata": {
        "colab": {
          "base_uri": "https://localhost:8080/",
          "height": 211
        },
        "id": "ZGBGWh9Iq-LW",
        "outputId": "50fb07ad-8b4b-4b81-9301-91d0c5a8f778"
      },
      "outputs": [
        {
          "output_type": "display_data",
          "data": {
            "text/plain": [
              "<Figure size 640x480 with 1 Axes>"
            ],
            "image/png": "[encoded data removed]"
          },
          "metadata": {}
        },
        {
          "output_type": "stream",
          "name": "stdout",
          "text": [
            "GroundTruth:  cat   ship  ship  plane\n"
          ]
        }
      ],
      "source": [
        "dataiter = iter(testloader)\n",
        "images, labels = next(dataiter)\n",
        "\n",
        "# 이미지를 출력합니다.\n",
        "imshow(torchvision.utils.make_grid(images))\n",
        "print('GroundTruth: ', ' '.join(f'{classes[labels[j]]:5s}' for j in range(4)))"
      ]
    },
    {
      "cell_type": "markdown",
      "metadata": {
        "id": "cEI9wKWIq-LW"
      },
      "source": [
        "이제, 저장했던 모델을 불러오도록 하겠습니다 (주: 모델을 저장하고 다시 불러오는\n",
        "작업은 여기에서는 불필요하지만, 어떻게 하는지 설명을 위해 해보겠습니다):\n",
        "\n"
      ]
    },
    {
      "cell_type": "code",
      "execution_count": 11,
      "metadata": {
        "colab": {
          "base_uri": "https://localhost:8080/"
        },
        "id": "ty5wH8Jjq-LW",
        "outputId": "7fa764b5-5a83-437b-fcac-987e29041f1d"
      },
      "outputs": [
        {
          "output_type": "execute_result",
          "data": {
            "text/plain": [
              "<All keys matched successfully>"
            ]
          },
          "metadata": {},
          "execution_count": 11
        }
      ],
      "source": [
        "net = Net()\n",
        "net.load_state_dict(torch.load(PATH))"
      ]
    },
    {
      "cell_type": "markdown",
      "metadata": {
        "id": "Yhcwl56Bq-LX"
      },
      "source": [
        "좋습니다, 이제 이 예제들을 신경망이 어떻게 예측했는지를 보겠습니다:\n",
        "\n"
      ]
    },
    {
      "cell_type": "code",
      "execution_count": 12,
      "metadata": {
        "id": "ea6bnGBuq-LX"
      },
      "outputs": [],
      "source": [
        "outputs = net(images)"
      ]
    },
    {
      "cell_type": "markdown",
      "metadata": {
        "id": "-brXXV6Zq-LX"
      },
      "source": [
        "출력은 10개 분류 각각에 대한 값으로 나타납니다. 어떤 분류에 대해서 더 높은 값이\n",
        "나타난다는 것은, 신경망이 그 이미지가 해당 분류에 더 가깝다고 생각한다는 것입니다.\n",
        "따라서, 가장 높은 값을 갖는 인덱스(index)를 뽑아보겠습니다:\n",
        "\n"
      ]
    },
    {
      "cell_type": "code",
      "execution_count": 13,
      "metadata": {
        "colab": {
          "base_uri": "https://localhost:8080/"
        },
        "id": "jVX8VyJDq-LX",
        "outputId": "6a1fca16-5a3f-4dc3-afc7-1bb3bfd3be8c"
      },
      "outputs": [
        {
          "output_type": "stream",
          "name": "stdout",
          "text": [
            "Predicted:  cat   car   car   plane\n"
          ]
        }
      ],
      "source": [
        "_, predicted = torch.max(outputs, 1)\n",
        "\n",
        "print('Predicted: ', ' '.join(f'{classes[predicted[j]]:5s}'\n",
        "                              for j in range(4)))"
      ]
    },
    {
      "cell_type": "markdown",
      "metadata": {
        "id": "UoHoJConq-LX"
      },
      "source": [
        "결과가 괜찮아보이네요.\n",
        "\n",
        "그럼 전체 데이터셋에 대해서는 어떻게 동작하는지 보겠습니다.\n",
        "\n"
      ]
    },
    {
      "cell_type": "code",
      "execution_count": 14,
      "metadata": {
        "colab": {
          "base_uri": "https://localhost:8080/"
        },
        "id": "TCzd5uLbq-LX",
        "outputId": "c64699c8-dfcc-44db-e83f-49a9ad5b4d7b"
      },
      "outputs": [
        {
          "output_type": "stream",
          "name": "stdout",
          "text": [
            "Accuracy of the network on the 10000 test images: 55 %\n"
          ]
        }
      ],
      "source": [
        "correct = 0\n",
        "total = 0\n",
        "# 학습 중이 아니므로, 출력에 대한 변화도를 계산할 필요가 없습니다\n",
        "with torch.no_grad():\n",
        "    for data in testloader:\n",
        "        images, labels = data\n",
        "        # 신경망에 이미지를 통과시켜 출력을 계산합니다\n",
        "        outputs = net(images)\n",
        "        # 가장 높은 값(energy)를 갖는 분류(class)를 정답으로 선택하겠습니다\n",
        "        _, predicted = torch.max(outputs.data, 1)\n",
        "        total += labels.size(0)\n",
        "        correct += (predicted == labels).sum().item()\n",
        "\n",
        "print(f'Accuracy of the network on the 10000 test images: {100 * correct // total} %')"
      ]
    },
    {
      "cell_type": "markdown",
      "metadata": {
        "id": "yTG3Dhydq-LX"
      },
      "source": [
        "(10가지 분류 중에 하나를 무작위로) 찍었을 때의 정확도인 10% 보다는 나아보입니다.\n",
        "신경망이 뭔가 배우긴 한 것 같네요.\n",
        "\n",
        "그럼 어떤 것들을 더 잘 분류하고, 어떤 것들을 더 못했는지 알아보겠습니다:\n",
        "\n"
      ]
    },
    {
      "cell_type": "code",
      "execution_count": 15,
      "metadata": {
        "colab": {
          "base_uri": "https://localhost:8080/"
        },
        "id": "yEEIdMVRq-LX",
        "outputId": "456fd242-b991-4b61-8e41-7ef35c5560be"
      },
      "outputs": [
        {
          "output_type": "stream",
          "name": "stdout",
          "text": [
            "Accuracy for class: plane is 58.6 %\n",
            "Accuracy for class: car   is 79.5 %\n",
            "Accuracy for class: bird  is 25.7 %\n",
            "Accuracy for class: cat   is 38.4 %\n",
            "Accuracy for class: deer  is 46.5 %\n",
            "Accuracy for class: dog   is 38.6 %\n",
            "Accuracy for class: frog  is 75.7 %\n",
            "Accuracy for class: horse is 72.2 %\n",
            "Accuracy for class: ship  is 60.2 %\n",
            "Accuracy for class: truck is 62.5 %\n"
          ]
        }
      ],
      "source": [
        "# 각 분류(class)에 대한 예측값 계산을 위해 준비\n",
        "correct_pred = {classname: 0 for classname in classes}\n",
        "total_pred = {classname: 0 for classname in classes}\n",
        "\n",
        "# 변화도는 여전히 필요하지 않습니다\n",
        "with torch.no_grad():\n",
        "    for data in testloader:\n",
        "        images, labels = data\n",
        "        outputs = net(images)\n",
        "        _, predictions = torch.max(outputs, 1)\n",
        "        # 각 분류별로 올바른 예측 수를 모읍니다\n",
        "        for label, prediction in zip(labels, predictions):\n",
        "            if label == prediction:\n",
        "                correct_pred[classes[label]] += 1\n",
        "            total_pred[classes[label]] += 1\n",
        "\n",
        "\n",
        "# 각 분류별 정확도(accuracy)를 출력합니다\n",
        "for classname, correct_count in correct_pred.items():\n",
        "    accuracy = 100 * float(correct_count) / total_pred[classname]\n",
        "    print(f'Accuracy for class: {classname:5s} is {accuracy:.1f} %')"
      ]
    },
    {
      "cell_type": "markdown",
      "metadata": {
        "id": "QfKGYt4Uq-LY"
      },
      "source": [
        "자, 이제 다음으로 무엇을 해볼까요?\n",
        "\n",
        "이러한 신경망들을 GPU에서 실행하려면 어떻게 해야 할까요?\n",
        "\n",
        "## GPU에서 학습하기\n",
        "Tensor를 GPU로 이동했던 것처럼, 신경망 또한 GPU로 옮길 수 있습니다.\n",
        "\n",
        "먼저 (CUDA를 사용할 수 있다면) 첫번째 CUDA 장치를 사용하도록 설정합니다:\n",
        "\n"
      ]
    },
    {
      "cell_type": "code",
      "execution_count": null,
      "metadata": {
        "id": "3TfJ6xDZq-LY"
      },
      "outputs": [],
      "source": [
        "device = torch.device('cuda:0' if torch.cuda.is_available() else 'cpu')\n",
        "\n",
        "# CUDA 기기가 존재한다면, 아래 코드가 CUDA 장치를 출력합니다:\n",
        "\n",
        "print(device)"
      ]
    },
    {
      "cell_type": "markdown",
      "metadata": {
        "id": "Jx_T_Zz8q-LY"
      },
      "source": [
        "이 섹션의 나머지 부분에서는 ``device`` 를 CUDA 장치라고 가정하겠습니다.\n",
        "\n",
        "그리고 이 메소드(Method)들은 재귀적으로 모든 모듈의 매개변수와 버퍼를\n",
        "CUDA tensor로 변경합니다:\n",
        "\n",
        ".. code:: python\n",
        "\n",
        "    net.to(device)\n",
        "\n",
        "\n",
        "또한, 각 단계에서 입력(input)과 정답(target)도 GPU로 보내야 한다는 것도 기억해야\n",
        "합니다:\n",
        "\n",
        ".. code:: python\n",
        "\n",
        "        inputs, labels = data[0].to(device), data[1].to(device)\n",
        "\n",
        "CPU와 비교했을 때 어마어마한 속도 차이가 나지 않는 것은 왜 그럴까요?\n",
        "그 이유는 바로 신경망이 너무 작기 때문입니다.\n",
        "\n",
        "**연습:** 신경망의 크기를 키워보고, 얼마나 빨라지는지 확인해보세요.\n",
        "(첫번째 ``nn.Conv2d`` 의 2번째 인자와 두번째 ``nn.Conv2d`` 의 1번째 인자는\n",
        "같은 숫자여야 합니다.)\n",
        "\n",
        "**다음 목표들을 달성했습니다**:\n",
        "\n",
        "- 높은 수준에서 PyTorch의 Tensor library와 신경망을 이해합니다.\n",
        "- 이미지를 분류하는 작은 신경망을 학습시킵니다.\n",
        "\n",
        "## 여러개의 GPU에서 학습하기\n",
        "모든 GPU를 활용해서 더욱 더 속도를 올리고 싶다면, :doc:`data_parallel_tutorial`\n",
        "을 참고하세요.\n",
        "\n",
        "## 이제 무엇을 해볼까요?\n",
        "\n",
        "-  :doc:`비디오 게임을 할 수 있는 신경망 학습시키기 </intermediate/reinforcement_q_learning>`\n",
        "-  `imagenet으로 최첨단(state-of-the-art) ResNet 신경망 학습시키기`_\n",
        "-  `적대적 생성 신경망으로 얼굴 생성기 학습시키기`_\n",
        "-  `순환 LSTM 네트워크를 사용해 단어 단위 언어 모델 학습시키기`_\n",
        "-  `다른 예제들 참고하기`_\n",
        "-  `더 많은 튜토리얼 보기`_\n",
        "-  `포럼에서 PyTorch에 대해 얘기하기`_\n",
        "-  `Slack에서 다른 사용자와 대화하기`_\n",
        "\n",
        "\n"
      ]
    },
    {
      "cell_type": "code",
      "execution_count": null,
      "metadata": {
        "id": "AfNZon3rq-LY"
      },
      "outputs": [],
      "source": [
        "del dataiter"
      ]
    },
    {
      "cell_type": "code",
      "source": [],
      "metadata": {
        "id": "o5MAV5htrA_G"
      },
      "execution_count": null,
      "outputs": []
    },
    {
      "cell_type": "code",
      "source": [],
      "metadata": {
        "id": "IstxpbW7rBLn"
      },
      "execution_count": null,
      "outputs": []
    }
  ],
  "metadata": {
    "kernelspec": {
      "display_name": "Python 3",
      "language": "python",
      "name": "python3"
    },
    "language_info": {
      "codemirror_mode": {
        "name": "ipython",
        "version": 3
      },
      "file_extension": ".py",
      "mimetype": "text/x-python",
      "name": "python",
      "nbconvert_exporter": "python",
      "pygments_lexer": "ipython3",
      "version": "3.10.14"
    },
    "colab": {
      "provenance": []
    }
  },
  "nbformat": 4,
  "nbformat_minor": 0
}