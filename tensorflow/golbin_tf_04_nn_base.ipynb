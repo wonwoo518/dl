{
 "cells": [
  {
   "cell_type": "code",
   "execution_count": 1,
   "metadata": {},
   "outputs": [],
   "source": [
    "import tensorflow as tf\n",
    "import numpy as np"
   ]
  },
  {
   "cell_type": "code",
   "execution_count": 2,
   "metadata": {},
   "outputs": [],
   "source": [
    "x_data = np.array([[0,0],  [1,0],  [1,1],  [0,0],  [0,0]  ,[0,1]])\n",
    "y_data = np.array([[1,0,0],[0,1,0],[0,0,1],[1,0,0],[1,0,0],[0,0,1]])"
   ]
  },
  {
   "cell_type": "code",
   "execution_count": 18,
   "metadata": {},
   "outputs": [],
   "source": [
    "X = tf.placeholder(tf.float32, name=\"input\")\n",
    "Y = tf.placeholder(tf.float32, name=\"output\")\n",
    "\n",
    "W = tf.Variable(tf.random_normal([2,3]))\n",
    "b = tf.Variable(tf.random_normal([3]))"
   ]
  },
  {
   "cell_type": "code",
   "execution_count": 19,
   "metadata": {},
   "outputs": [],
   "source": [
    "L = tf.matmul(X,W) + b\n",
    "L = tf.nn.relu(L)\n"
   ]
  },
  {
   "cell_type": "code",
   "execution_count": 22,
   "metadata": {},
   "outputs": [],
   "source": [
    "model = tf.nn.softmax(L)\n",
    "cost = tf.reduce_mean(-tf.reduce_sum(Y * tf.log(model), axis=1))"
   ]
  },
  {
   "cell_type": "code",
   "execution_count": 23,
   "metadata": {},
   "outputs": [
    {
     "name": "stdout",
     "output_type": "stream",
     "text": [
      "a =  None cost :  1.30395\n",
      "a =  None cost :  1.29706\n",
      "a =  None cost :  1.29024\n",
      "a =  None cost :  1.28347\n",
      "a =  None cost :  1.27676\n",
      "a =  None cost :  1.27011\n",
      "a =  None cost :  1.26351\n",
      "a =  None cost :  1.25696\n",
      "a =  None cost :  1.25047\n",
      "a =  None cost :  1.24402\n",
      "a =  None cost :  1.23761\n",
      "a =  None cost :  1.23126\n",
      "a =  None cost :  1.22495\n",
      "a =  None cost :  1.21868\n",
      "a =  None cost :  1.21245\n",
      "a =  None cost :  1.20627\n",
      "a =  None cost :  1.20013\n",
      "a =  None cost :  1.19403\n",
      "a =  None cost :  1.18796\n",
      "a =  None cost :  1.18194\n",
      "a =  None cost :  1.17595\n",
      "a =  None cost :  1.17\n",
      "a =  None cost :  1.16409\n",
      "a =  None cost :  1.15821\n",
      "a =  None cost :  1.15237\n",
      "a =  None cost :  1.14657\n",
      "a =  None cost :  1.14079\n",
      "a =  None cost :  1.13506\n",
      "a =  None cost :  1.12936\n",
      "a =  None cost :  1.12369\n",
      "a =  None cost :  1.11805\n",
      "a =  None cost :  1.11245\n",
      "a =  None cost :  1.10688\n",
      "a =  None cost :  1.10135\n",
      "a =  None cost :  1.09584\n",
      "a =  None cost :  1.09037\n",
      "a =  None cost :  1.08493\n",
      "a =  None cost :  1.07952\n",
      "a =  None cost :  1.07415\n",
      "a =  None cost :  1.0688\n",
      "a =  None cost :  1.06349\n",
      "a =  None cost :  1.05821\n",
      "a =  None cost :  1.05295\n",
      "a =  None cost :  1.04773\n",
      "a =  None cost :  1.04254\n",
      "a =  None cost :  1.03738\n",
      "a =  None cost :  1.03225\n",
      "a =  None cost :  1.02716\n",
      "a =  None cost :  1.02209\n",
      "a =  None cost :  1.01705\n",
      "a =  None cost :  1.01204\n",
      "a =  None cost :  1.00706\n",
      "a =  None cost :  1.00211\n",
      "a =  None cost :  0.997186\n",
      "a =  None cost :  0.992294\n",
      "a =  None cost :  0.987432\n",
      "a =  None cost :  0.982598\n",
      "a =  None cost :  0.977794\n",
      "a =  None cost :  0.973019\n",
      "a =  None cost :  0.968272\n",
      "a =  None cost :  0.963554\n",
      "a =  None cost :  0.958865\n",
      "a =  None cost :  0.954204\n",
      "a =  None cost :  0.949571\n",
      "a =  None cost :  0.944967\n",
      "a =  None cost :  0.940391\n",
      "a =  None cost :  0.935842\n",
      "a =  None cost :  0.931322\n",
      "a =  None cost :  0.926829\n",
      "a =  None cost :  0.922364\n",
      "a =  None cost :  0.917927\n",
      "a =  None cost :  0.913517\n",
      "a =  None cost :  0.909134\n",
      "a =  None cost :  0.904778\n",
      "a =  None cost :  0.90045\n",
      "a =  None cost :  0.896148\n",
      "a =  None cost :  0.891873\n",
      "a =  None cost :  0.887625\n",
      "a =  None cost :  0.883404\n",
      "a =  None cost :  0.879209\n",
      "a =  None cost :  0.87504\n",
      "a =  None cost :  0.870898\n",
      "a =  None cost :  0.866868\n",
      "a =  None cost :  0.86305\n",
      "a =  None cost :  0.859262\n",
      "a =  None cost :  0.855504\n",
      "a =  None cost :  0.851776\n",
      "a =  None cost :  0.848078\n",
      "a =  None cost :  0.844407\n",
      "a =  None cost :  0.840765\n",
      "a =  None cost :  0.837149\n",
      "a =  None cost :  0.833561\n",
      "a =  None cost :  0.829998\n",
      "a =  None cost :  0.826462\n",
      "a =  None cost :  0.822951\n",
      "a =  None cost :  0.819465\n",
      "a =  None cost :  0.816003\n",
      "a =  None cost :  0.812566\n",
      "a =  None cost :  0.809152\n",
      "a =  None cost :  0.805762\n",
      "예측값: [2 1 2 2 2 2]\n",
      "실제값: [0 1 2 0 0 2]\n",
      "정확도: 50.00\n"
     ]
    }
   ],
   "source": [
    "optimizer = tf.train.GradientDescentOptimizer(learning_rate=0.1)\n",
    "train_op = optimizer.minimize(cost)\n",
    "\n",
    "with tf.Session() as sess:\n",
    "    sess.run(tf.global_variables_initializer())\n",
    "\n",
    "    for step in range(100):\n",
    "        a, b = sess.run([train_op, cost], feed_dict={X:x_data, Y:y_data})\n",
    "        print(\"a = \" ,a ,\"cost : \",b)\n",
    "        \n",
    "    predict = tf.argmax(model, axis=1)\n",
    "    target = tf.argmax(Y, axis=1)\n",
    "    print(\"예측값:\", sess.run(predict, feed_dict={X:x_data}))\n",
    "    print(\"실제값:\", sess.run(target, feed_dict={Y:y_data}))\n",
    "        \n",
    "    is_correct = tf.equal(predict, target)\n",
    "    accuracy = tf.reduce_mean(tf.cast(is_correct, tf.float32))\n",
    "    print(\"정확도: %.2f\"% sess.run(accuracy * 100, feed_dict={X:x_data, Y:y_data}))\n"
   ]
  },
  {
   "cell_type": "code",
   "execution_count": null,
   "metadata": {
    "collapsed": true
   },
   "outputs": [],
   "source": []
  }
 ],
 "metadata": {
  "kernelspec": {
   "display_name": "Python 3",
   "language": "python",
   "name": "python3"
  },
  "language_info": {
   "codemirror_mode": {
    "name": "ipython",
    "version": 3
   },
   "file_extension": ".py",
   "mimetype": "text/x-python",
   "name": "python",
   "nbconvert_exporter": "python",
   "pygments_lexer": "ipython3",
   "version": "3.6.3"
  }
 },
 "nbformat": 4,
 "nbformat_minor": 2
}
