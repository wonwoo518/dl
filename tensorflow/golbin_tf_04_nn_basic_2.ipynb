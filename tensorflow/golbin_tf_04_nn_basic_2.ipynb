{
 "cells": [
  {
   "cell_type": "code",
   "execution_count": 10,
   "metadata": {},
   "outputs": [],
   "source": [
    "import tensorflow as tf\n",
    "import numpy as np"
   ]
  },
  {
   "cell_type": "code",
   "execution_count": 11,
   "metadata": {},
   "outputs": [],
   "source": [
    "x_data = np.array([[0,0],  [1,0],  [1,1],  [0,0],  [0,0]  ,[0,1]])\n",
    "y_data = np.array([[1,0,0],[0,1,0],[0,0,1],[1,0,0],[1,0,0],[0,0,1]])"
   ]
  },
  {
   "cell_type": "code",
   "execution_count": 18,
   "metadata": {},
   "outputs": [],
   "source": [
    "X = tf.placeholder(tf.float32, name=\"input\")\n",
    "Y = tf.placeholder(tf.float32, name=\"output\")\n",
    "\n",
    "W1 = tf.Variable(tf.random_normal([2,10]))\n",
    "b1 = tf.Variable(tf.random_normal([10]))\n",
    "\n",
    "W2 = tf.Variable(tf.random_normal([10,3]))\n",
    "b2 = tf.Variable(tf.random_normal([3]))"
   ]
  },
  {
   "cell_type": "code",
   "execution_count": 22,
   "metadata": {},
   "outputs": [],
   "source": [
    "L1 = tf.matmul(X,W1) + b1\n",
    "L1 = tf.nn.relu(L1)\n",
    "\n",
    "L2 = tf.matmul(L1,W2) + b2"
   ]
  },
  {
   "cell_type": "code",
   "execution_count": 23,
   "metadata": {},
   "outputs": [],
   "source": [
    "model = tf.nn.softmax(L2)\n",
    "cost = tf.reduce_mean(-tf.reduce_sum(Y * tf.log(model), axis=1))"
   ]
  },
  {
   "cell_type": "code",
   "execution_count": 24,
   "metadata": {},
   "outputs": [
    {
     "name": "stdout",
     "output_type": "stream",
     "text": [
      "a =  None cost :  5.61575\n",
      "a =  None cost :  4.33862\n",
      "a =  None cost :  3.39164\n",
      "a =  None cost :  2.60786\n",
      "a =  None cost :  1.96293\n",
      "a =  None cost :  1.55929\n",
      "a =  None cost :  1.37398\n",
      "a =  None cost :  1.26065\n",
      "a =  None cost :  1.16938\n",
      "a =  None cost :  1.08431\n",
      "a =  None cost :  1.00573\n",
      "a =  None cost :  0.932218\n",
      "a =  None cost :  0.863975\n",
      "a =  None cost :  0.799365\n",
      "a =  None cost :  0.739248\n",
      "a =  None cost :  0.683558\n",
      "a =  None cost :  0.632253\n",
      "a =  None cost :  0.58524\n",
      "a =  None cost :  0.542753\n",
      "a =  None cost :  0.504283\n",
      "a =  None cost :  0.468861\n",
      "a =  None cost :  0.436814\n",
      "a =  None cost :  0.407807\n",
      "a =  None cost :  0.38202\n",
      "a =  None cost :  0.359084\n",
      "a =  None cost :  0.338408\n",
      "a =  None cost :  0.319634\n",
      "a =  None cost :  0.302681\n",
      "a =  None cost :  0.287377\n",
      "a =  None cost :  0.272875\n",
      "a =  None cost :  0.259567\n",
      "a =  None cost :  0.247304\n",
      "a =  None cost :  0.236347\n",
      "a =  None cost :  0.225904\n",
      "a =  None cost :  0.216122\n",
      "a =  None cost :  0.207049\n",
      "a =  None cost :  0.198766\n",
      "a =  None cost :  0.191065\n",
      "a =  None cost :  0.183687\n",
      "a =  None cost :  0.176966\n",
      "a =  None cost :  0.170689\n",
      "a =  None cost :  0.164994\n",
      "a =  None cost :  0.15937\n",
      "a =  None cost :  0.154076\n",
      "a =  None cost :  0.149081\n",
      "a =  None cost :  0.144587\n",
      "a =  None cost :  0.140154\n",
      "a =  None cost :  0.135907\n",
      "a =  None cost :  0.131882\n",
      "a =  None cost :  0.128206\n",
      "a =  None cost :  0.124624\n",
      "a =  None cost :  0.121183\n",
      "a =  None cost :  0.117884\n",
      "a =  None cost :  0.114845\n",
      "a =  None cost :  0.111902\n",
      "a =  None cost :  0.109025\n",
      "a =  None cost :  0.106298\n",
      "a =  None cost :  0.103764\n",
      "a =  None cost :  0.101305\n",
      "a =  None cost :  0.0988885\n",
      "a =  None cost :  0.0965737\n",
      "a =  None cost :  0.0944321\n",
      "a =  None cost :  0.0923666\n",
      "a =  None cost :  0.0903121\n",
      "a =  None cost :  0.0883385\n",
      "a =  None cost :  0.0864806\n",
      "a =  None cost :  0.0847407\n",
      "a =  None cost :  0.0829757\n",
      "a =  None cost :  0.081276\n",
      "a =  None cost :  0.0796591\n",
      "a =  None cost :  0.0781597\n",
      "a =  None cost :  0.0766382\n",
      "a =  None cost :  0.0751613\n",
      "a =  None cost :  0.0737438\n",
      "a =  None cost :  0.0724383\n",
      "a =  None cost :  0.0711173\n",
      "a =  None cost :  0.0698238\n",
      "a =  None cost :  0.0685721\n",
      "a =  None cost :  0.067427\n",
      "a =  None cost :  0.0662673\n",
      "a =  None cost :  0.0651291\n",
      "a =  None cost :  0.064023\n",
      "a =  None cost :  0.0630022\n",
      "a =  None cost :  0.0619796\n",
      "a =  None cost :  0.0609724\n",
      "a =  None cost :  0.0599888\n",
      "a =  None cost :  0.0590738\n",
      "a =  None cost :  0.0581667\n",
      "a =  None cost :  0.0572697\n",
      "a =  None cost :  0.0563902\n",
      "a =  None cost :  0.0555656\n",
      "a =  None cost :  0.054757\n",
      "a =  None cost :  0.0539533\n",
      "a =  None cost :  0.0531628\n",
      "a =  None cost :  0.0524157\n",
      "a =  None cost :  0.0516921\n",
      "a =  None cost :  0.0509681\n",
      "a =  None cost :  0.0502541\n",
      "a =  None cost :  0.049574\n",
      "a =  None cost :  0.0489241\n",
      "예측값: [0 1 2 0 0 2]\n",
      "실제값: [0 1 2 0 0 2]\n",
      "정확도: 100.00\n"
     ]
    }
   ],
   "source": [
    "optimizer = tf.train.GradientDescentOptimizer(learning_rate=0.1)\n",
    "train_op = optimizer.minimize(cost)\n",
    "\n",
    "with tf.Session() as sess:\n",
    "    sess.run(tf.global_variables_initializer())\n",
    "\n",
    "    for step in range(100):\n",
    "        a, b = sess.run([train_op, cost], feed_dict={X:x_data, Y:y_data})\n",
    "        print(\"a = \" ,a ,\"cost : \",b)\n",
    "        \n",
    "    predict = tf.argmax(model, axis=1)\n",
    "    target = tf.argmax(Y, axis=1)\n",
    "    print(\"예측값:\", sess.run(predict, feed_dict={X:x_data}))\n",
    "    print(\"실제값:\", sess.run(target, feed_dict={Y:y_data}))\n",
    "        \n",
    "    is_correct = tf.equal(predict, target)\n",
    "    accuracy = tf.reduce_mean(tf.cast(is_correct, tf.float32))\n",
    "    print(\"정확도: %.2f\"% sess.run(accuracy * 100, feed_dict={X:x_data, Y:y_data}))\n"
   ]
  },
  {
   "cell_type": "code",
   "execution_count": null,
   "metadata": {
    "collapsed": true
   },
   "outputs": [],
   "source": []
  }
 ],
 "metadata": {
  "kernelspec": {
   "display_name": "Python 3",
   "language": "python",
   "name": "python3"
  },
  "language_info": {
   "codemirror_mode": {
    "name": "ipython",
    "version": 3
   },
   "file_extension": ".py",
   "mimetype": "text/x-python",
   "name": "python",
   "nbconvert_exporter": "python",
   "pygments_lexer": "ipython3",
   "version": "3.6.3"
  }
 },
 "nbformat": 4,
 "nbformat_minor": 2
}
